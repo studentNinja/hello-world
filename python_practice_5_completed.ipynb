{
  "nbformat": 4,
  "nbformat_minor": 0,
  "metadata": {
    "colab": {
      "provenance": []
    },
    "kernelspec": {
      "name": "python3",
      "display_name": "Python 3"
    },
    "language_info": {
      "name": "python"
    }
  },
  "cells": [
    {
      "cell_type": "markdown",
      "source": [
        "# I. OOP"
      ],
      "metadata": {
        "id": "5qV_sehzFCTp"
      }
    },
    {
      "cell_type": "markdown",
      "source": [
        "1. (6б). Створіть клас Animal, додайте три атрибути, один з яких має значення за замовчуванням та два методи на свій розсуд."
      ],
      "metadata": {
        "id": "tx_U_hOALyfg"
      }
    },
    {
      "cell_type": "code",
      "source": [
        "class Animal:\n",
        "  def __init__(self,name,speed,area = \"africa\"):\n",
        "    self.name = name\n",
        "    self.speed = speed\n",
        "    self.area = area\n",
        "\n",
        "  def change_area(self):\n",
        "    new_area = input(\"What is new area? \")\n",
        "    self.area = new_area\n",
        "    print(f\"The new area is {self.area}\")\n",
        "\n",
        "  def change_name(self):\n",
        "    new_name = input(\"What is the new name? \")\n",
        "    self.name = new_name\n",
        "    print(f\"New name is {self.name}\")\n",
        "\n",
        "zebra_1 = Animal(\"Zebra\",\"50\")\n",
        "\n",
        "zebra_1.change_area()\n",
        "zebra_1.change_name()\n",
        "\n",
        "print(f\"New name is {zebra_1.name} and new area is {zebra_1.area}\")\n"
      ],
      "metadata": {
        "id": "-Vf895KaL88N",
        "colab": {
          "base_uri": "https://localhost:8080/"
        },
        "outputId": "05305c26-9d31-412a-87f8-5c5e5a14e1bc"
      },
      "execution_count": null,
      "outputs": [
        {
          "output_type": "stream",
          "name": "stdout",
          "text": [
            "What is new area? Tokyo\n",
            "The new area is Tokyo\n",
            "What is the new name? Zebra from Japan\n",
            "New name is Zebra from Japan\n",
            "New name is Zebra from Japan and new area is Tokyo\n"
          ]
        }
      ]
    },
    {
      "cell_type": "markdown",
      "source": [
        "2. (2б). Створіть два обʼєкти цього класу, де один з обʼєктів створюється із дефолтним значенням атрибуту. На одному обʼєкті отримайте значення його атрибуту, а на іншому викличте один з його методів."
      ],
      "metadata": {
        "id": "X_UlOMB0L93w"
      }
    },
    {
      "cell_type": "code",
      "source": [
        "zebra_2 = Animal(\"Zebra from the USA\",\"50\", \"Chicago\")\n",
        "lion_1 = Animal(\"Lion\",\"60\")\n",
        "\n",
        "zebra_2.change_area()\n",
        "lion_1.change_name()\n",
        "\n",
        "print(f\"Lion's name is {lion_1.name}\")\n",
        "\n"
      ],
      "metadata": {
        "id": "7gBu0ESOMCpG",
        "colab": {
          "base_uri": "https://localhost:8080/"
        },
        "outputId": "ec64f372-d327-436a-8cd1-eb28cf69ad26"
      },
      "execution_count": null,
      "outputs": [
        {
          "output_type": "stream",
          "name": "stdout",
          "text": [
            "What is new area? New York\n",
            "The new area is New York\n",
            "What is the new name? Alex\n",
            "New name is Alex\n",
            "Lion's name is Alex\n"
          ]
        }
      ]
    },
    {
      "cell_type": "markdown",
      "source": [
        "3. (5б). Створіть клас, де атрибути мають різні рівні доступу. Спробуйте отримати їхні значення та опишіть результати."
      ],
      "metadata": {
        "id": "HoqSCZt1MHn5"
      }
    },
    {
      "cell_type": "code",
      "source": [
        "class AccessClass:\n",
        "  def __init__(self,x,y,k):\n",
        "    self.public = x\n",
        "    self._protected = y\n",
        "    self.__private = k\n",
        "  def get_private(self):\n",
        "    return self.__private\n",
        "\n",
        "test_privacy =  AccessClass(1,2,3)\n",
        "\n",
        "print(f\"Public: {test_privacy.public} , protected: {test_privacy._protected}\")\n",
        "# print(f\"Private: {test_privacy.__private}\") error\n",
        "\n",
        "print(f\"Private: {test_privacy.get_private()}\")\n",
        "\n"
      ],
      "metadata": {
        "id": "r9b3vJxBMSPV",
        "colab": {
          "base_uri": "https://localhost:8080/"
        },
        "outputId": "290ada3f-055d-4b73-8c32-6356a2b82aa5"
      },
      "execution_count": null,
      "outputs": [
        {
          "output_type": "stream",
          "name": "stdout",
          "text": [
            "Public: 1 , protected: 2\n",
            "Private: 3\n"
          ]
        }
      ]
    },
    {
      "cell_type": "markdown",
      "source": [
        "4. (7б). Як ви розумієте термін self? Для чого використовується метод __init __?"
      ],
      "metadata": {
        "id": "5op2m2vgMSkZ"
      }
    },
    {
      "cell_type": "markdown",
      "source": [
        "Self це посилання на поточний екземпляр класу та використовується для доступу до змінних які йому належать"
      ],
      "metadata": {
        "id": "DyiPqNRvMasx"
      }
    },
    {
      "cell_type": "markdown",
      "source": [
        "5. (9б). Створіть клас Фігура без атрибутів, з методом get_area для отримання площі фігури, що повертає 0 та __add __, який приймає self та other в якості аргументів, а повертає суму площин фігур self та other."
      ],
      "metadata": {
        "id": "-6X8EGfjMd2y"
      }
    },
    {
      "cell_type": "code",
      "source": [
        "\n",
        "class Figure:\n",
        "  def get_area(self):\n",
        "    return 0\n",
        "  def __add__(self,other):\n",
        "    return self.get_area() + other.get_area()"
      ],
      "metadata": {
        "id": "4rvO_wYUMaEr"
      },
      "execution_count": null,
      "outputs": []
    },
    {
      "cell_type": "markdown",
      "source": [
        "6. (11б). Створіть 2 дочірніх класи від Фігури: Трикутник та Коло, які мають атрибути, необхідні для розрахунку площин. Визначте метод get_area в кожному з них так, щоби вони розраховували площу в залежності від формули для кожного типу фігури. Створіть обʼєкт класу Трикутник та обʼєкт класу Коло. Виконайте операцію суми за допомогою оператора + між ними."
      ],
      "metadata": {
        "id": "SFcKnnv5Mo_z"
      }
    },
    {
      "cell_type": "code",
      "source": [
        "class Circle(Figure):\n",
        "  def __init__(self,r):\n",
        "    self.radius = r\n",
        "  def get_area(self):\n",
        "    return 3.14 * self.radius**2\n",
        "class Triangle(Figure):\n",
        "  def __init__(self,b,h):\n",
        "    self.base = b\n",
        "    self.height = h\n",
        "  def get_area(self):\n",
        "    return 0.5 * self.base * self.height\n",
        "new_circle = Circle(int(input(\"Введіть радіус: \")))\n",
        "new_triangle = Triangle(2,4)\n",
        "\n",
        "area_sum = new_circle + new_triangle\n",
        "\n",
        "print(area_sum)"
      ],
      "metadata": {
        "id": "H3GVNr69Muf3",
        "colab": {
          "base_uri": "https://localhost:8080/"
        },
        "outputId": "82bfa4d7-62b0-43d9-a3ae-b8a9914918d2"
      },
      "execution_count": null,
      "outputs": [
        {
          "output_type": "stream",
          "name": "stdout",
          "text": [
            "Введіть радіус: 5\n",
            "82.5\n"
          ]
        }
      ]
    },
    {
      "cell_type": "markdown",
      "source": [
        "7. (3б). Продемонструйте різницю між isinstance та issubclass."
      ],
      "metadata": {
        "id": "HCvR206YMvLK"
      }
    },
    {
      "cell_type": "code",
      "source": [
        "print(isinstance(new_circle,Circle))\n",
        "print(isinstance(new_circle,Figure))\n",
        "\n",
        "print(isinstance(new_triangle,Circle))\n",
        "\n",
        "print(issubclass(Circle,Figure))"
      ],
      "metadata": {
        "id": "L_V1bBvDM0GN",
        "colab": {
          "base_uri": "https://localhost:8080/"
        },
        "outputId": "cdfe4c3c-2f90-440e-988a-c37850f64a4c"
      },
      "execution_count": null,
      "outputs": [
        {
          "output_type": "stream",
          "name": "stdout",
          "text": [
            "True\n",
            "True\n",
            "False\n",
            "True\n"
          ]
        }
      ]
    },
    {
      "cell_type": "markdown",
      "source": [
        "8. (13б). Створіть клас BankAccount з приватними атрибутами balance та account_number. Реалізуйте методи поповнення та зняття коштів, забезпечивши належну інкапсуляцію. Підказка: використовуйте декоратори property та setter."
      ],
      "metadata": {
        "id": "jjsaBZ-iM0Qq"
      }
    },
    {
      "cell_type": "code",
      "source": [
        "class BankAccount():\n",
        "  def __init__(self,account_number, balance = 0):\n",
        "    self.__balance = balance\n",
        "    self.account_number = account_number\n",
        "\n",
        "  @property\n",
        "  def balance(self):\n",
        "    return self.__balance\n",
        "\n",
        "  @balance.setter\n",
        "  def balance(self, new_balance):\n",
        "    if new_balance >= 0:\n",
        "      self.__balance = new_balance\n",
        "      print(f\"New balance is {self.balance}, (get balance)\")\n",
        "    else:\n",
        "      print(\"Balance is negative. Try again ;-)\")\n",
        "  def add(self,amount):\n",
        "    if not isinstance(amount, float) or amount < 0:\n",
        "            raise ValueError(f\"{amount} is impossible. try again ! \")\n",
        "    self.balance += amount\n",
        "    print(f\"New amount is {self.balance}, (add)\")\n",
        "  def withdraw(self,amount):\n",
        "      if not isinstance(amount, float) or amount < 0:\n",
        "            raise ValueError(f\"{amount} is impossible. try again ! \")\n",
        "      self.balance -= amount\n",
        "      print(f\"New amount is {self.balance}, (withdraw)\")\n",
        "\n",
        "\n",
        "account_1 = BankAccount(121)\n",
        "print(account_1.balance)\n",
        "account_1.add(156.1)\n",
        "account_1.withdraw(56.1)\n",
        "#print(account_1.__balance) throws an error"
      ],
      "metadata": {
        "id": "xCvZ7lh8M7YA",
        "colab": {
          "base_uri": "https://localhost:8080/"
        },
        "outputId": "a8e2d713-6e25-412a-d1ca-417fe9e78d84"
      },
      "execution_count": null,
      "outputs": [
        {
          "output_type": "stream",
          "name": "stdout",
          "text": [
            "0\n",
            "New balance is 156.1, (get balance)\n",
            "New amount is 156.1, (add)\n",
            "New balance is 100.0, (get balance)\n",
            "New amount is 100.0, (withdraw)\n"
          ]
        }
      ]
    },
    {
      "cell_type": "markdown",
      "source": [
        "9. (11б). Створіть клас Library, який містить список об'єктів типу Book. Реалізуйте методи для додавання книги, видалення книги та відображення списку книг."
      ],
      "metadata": {
        "id": "tIzL2SJTM8ft"
      }
    },
    {
      "cell_type": "code",
      "source": [
        "from os import name\n",
        "class Book():\n",
        "  def __init__(self,name):\n",
        "    self.name = name\n",
        "class Library():\n",
        "  def __init__(self,books=[]):\n",
        "    self.books = books\n",
        "\n",
        "  def add_book(self,book):\n",
        "    self.books.append(book)\n",
        "    print(f\"Book {book.name} is added!\")\n",
        "\n",
        "  def delete_book(self,book):\n",
        "    for x in self.books:\n",
        "      if x.name == book.name:\n",
        "        self.books.remove(x)\n",
        "        print(f\"A book {book.name} is removed\")\n",
        "        return\n",
        "    print(\"No such book :-(\")\n",
        "\n",
        "  def list_books(self):\n",
        "    if not self.books:\n",
        "      print(\"Library is empty :-(\")\n",
        "      return\n",
        "    for book in self.books:\n",
        "      print(f\"{book.name} is in library\")\n",
        "\n",
        "book_1 = Book(\"Harry Potter\")\n",
        "book_2 = Book(\"Witcher\")\n",
        "\n",
        "library_1 = Library()\n",
        "\n",
        "library_1.add_book(book_2)\n",
        "library_1.add_book(book_1)\n",
        "library_1.list_books()\n",
        "library_1.delete_book(book_1)"
      ],
      "metadata": {
        "id": "HWxfJKLtNAUZ",
        "colab": {
          "base_uri": "https://localhost:8080/"
        },
        "outputId": "f9a3a669-bd36-442e-effe-5508d6df570d"
      },
      "execution_count": null,
      "outputs": [
        {
          "output_type": "stream",
          "name": "stdout",
          "text": [
            "Book Witcher is added!\n",
            "Book Harry Potter is added!\n",
            "Witcher is in library\n",
            "Harry Potter is in library\n",
            "A book Harry Potter is removed\n"
          ]
        }
      ]
    },
    {
      "cell_type": "markdown",
      "source": [
        "10. (13б). Створіть клас Person з атрибутами name та age. Створіть ще один клас Employee з такими атрибутами, як department та salary. Створіть клас Manager, який успадковує обидва класи Person та Employee. Продемонструйте використання множинної спадковості, створивши обʼєкт класу Manager та отримавши mro для цього класу."
      ],
      "metadata": {
        "id": "lmV8pAwwNIqu"
      }
    },
    {
      "cell_type": "code",
      "source": [
        "class Person():\n",
        "  def __init__(self,name,age):\n",
        "    self.name = name\n",
        "    self.age = age\n",
        "\n",
        "class Employee():\n",
        "  def __init__(self,department,salary):\n",
        "    self.department = department\n",
        "    self.salary = salary\n",
        "\n",
        "class Manager():\n",
        "  def __init__(self, name, age, department, salary):\n",
        "        Person.__init__(self, name, age)\n",
        "        Employee.__init__(self, department, salary)\n",
        "\n",
        "manager_1 = Manager(\"Andrii\", 45, \"IT\", 60000)\n",
        "print(\"Name:\", manager_1.name)\n",
        "print(\"Age:\", manager_1.age)\n",
        "print(\"Department:\", manager_1.department)\n",
        "print(\"Salary:\", manager_1.salary)\n",
        "\n",
        "print(\"MRO:\", Manager.mro())\n",
        "print(Manager.__mro__)"
      ],
      "metadata": {
        "id": "R49grKlWNPeN",
        "colab": {
          "base_uri": "https://localhost:8080/"
        },
        "outputId": "f3fd5627-8219-4efe-d403-752d919050e7"
      },
      "execution_count": null,
      "outputs": [
        {
          "output_type": "stream",
          "name": "stdout",
          "text": [
            "Name: Andrii\n",
            "Age: 45\n",
            "Department: IT\n",
            "Salary: 60000\n",
            "MRO: [<class '__main__.Manager'>, <class 'object'>]\n",
            "(<class '__main__.Manager'>, <class 'object'>)\n"
          ]
        }
      ]
    },
    {
      "cell_type": "markdown",
      "source": [
        "# II. Iterator"
      ],
      "metadata": {
        "id": "dIJyUiNBFG8G"
      }
    },
    {
      "cell_type": "markdown",
      "source": [
        "11. (4б). Визначте рядок(str) з 4ма різними за значенням символами. Створіть ітератор на основі цього рядка. Викличте 5 разів функцію next на ітераторі, 4ри перших з них огорніть у ф-цію print()."
      ],
      "metadata": {
        "id": "13vsm0NyKIzL"
      }
    },
    {
      "cell_type": "code",
      "source": [
        "my_str = \"qwer\"\n",
        "my_iter = iter(my_str)\n",
        "\n",
        "for x in range(5):\n",
        "  next_str = my_iter.__next__()\n",
        "  if x < 5:\n",
        "    print(next_str)\n",
        "\n",
        "\n",
        "\n"
      ],
      "metadata": {
        "id": "81ntabAkKuz-",
        "colab": {
          "base_uri": "https://localhost:8080/",
          "height": 294
        },
        "outputId": "c5c4c269-1985-42d6-d3a5-c0d19b474d12"
      },
      "execution_count": null,
      "outputs": [
        {
          "output_type": "stream",
          "name": "stdout",
          "text": [
            "q\n",
            "w\n",
            "e\n",
            "r\n"
          ]
        },
        {
          "output_type": "error",
          "ename": "StopIteration",
          "evalue": "",
          "traceback": [
            "\u001b[0;31m---------------------------------------------------------------------------\u001b[0m",
            "\u001b[0;31mStopIteration\u001b[0m                             Traceback (most recent call last)",
            "\u001b[0;32m<ipython-input-51-c39a6266f948>\u001b[0m in \u001b[0;36m<cell line: 4>\u001b[0;34m()\u001b[0m\n\u001b[1;32m      3\u001b[0m \u001b[0;34m\u001b[0m\u001b[0m\n\u001b[1;32m      4\u001b[0m \u001b[0;32mfor\u001b[0m \u001b[0mx\u001b[0m \u001b[0;32min\u001b[0m \u001b[0mrange\u001b[0m\u001b[0;34m(\u001b[0m\u001b[0;36m5\u001b[0m\u001b[0;34m)\u001b[0m\u001b[0;34m:\u001b[0m\u001b[0;34m\u001b[0m\u001b[0;34m\u001b[0m\u001b[0m\n\u001b[0;32m----> 5\u001b[0;31m   \u001b[0mnext_str\u001b[0m \u001b[0;34m=\u001b[0m \u001b[0mmy_iter\u001b[0m\u001b[0;34m.\u001b[0m\u001b[0m__next__\u001b[0m\u001b[0;34m(\u001b[0m\u001b[0;34m)\u001b[0m\u001b[0;34m\u001b[0m\u001b[0;34m\u001b[0m\u001b[0m\n\u001b[0m\u001b[1;32m      6\u001b[0m   \u001b[0;32mif\u001b[0m \u001b[0mx\u001b[0m \u001b[0;34m<\u001b[0m \u001b[0;36m5\u001b[0m\u001b[0;34m:\u001b[0m\u001b[0;34m\u001b[0m\u001b[0;34m\u001b[0m\u001b[0m\n\u001b[1;32m      7\u001b[0m     \u001b[0mprint\u001b[0m\u001b[0;34m(\u001b[0m\u001b[0mnext_str\u001b[0m\u001b[0;34m)\u001b[0m\u001b[0;34m\u001b[0m\u001b[0;34m\u001b[0m\u001b[0m\n",
            "\u001b[0;31mStopIteration\u001b[0m: "
          ]
        }
      ]
    },
    {
      "cell_type": "markdown",
      "source": [
        "А що якщо викликати цю ж функцію на рядку?"
      ],
      "metadata": {
        "id": "aekWHGXOLRsO"
      }
    },
    {
      "cell_type": "code",
      "source": [
        "my_str.__next__()"
      ],
      "metadata": {
        "id": "mxATGsErLV1i",
        "colab": {
          "base_uri": "https://localhost:8080/",
          "height": 147
        },
        "outputId": "461eeccc-2d62-4c7d-f45a-c54810c074b4"
      },
      "execution_count": null,
      "outputs": [
        {
          "output_type": "error",
          "ename": "AttributeError",
          "evalue": "'str' object has no attribute '__next__'",
          "traceback": [
            "\u001b[0;31m---------------------------------------------------------------------------\u001b[0m",
            "\u001b[0;31mAttributeError\u001b[0m                            Traceback (most recent call last)",
            "\u001b[0;32m<ipython-input-52-dc4f00dcfed0>\u001b[0m in \u001b[0;36m<cell line: 1>\u001b[0;34m()\u001b[0m\n\u001b[0;32m----> 1\u001b[0;31m \u001b[0mmy_str\u001b[0m\u001b[0;34m.\u001b[0m\u001b[0m__next__\u001b[0m\u001b[0;34m(\u001b[0m\u001b[0;34m)\u001b[0m\u001b[0;34m\u001b[0m\u001b[0;34m\u001b[0m\u001b[0m\n\u001b[0m",
            "\u001b[0;31mAttributeError\u001b[0m: 'str' object has no attribute '__next__'"
          ]
        }
      ]
    },
    {
      "cell_type": "markdown",
      "source": [
        " 12. (5б). Опишіть своїми словами в одному реченні, як ви розумієте різницю між ітерабельними обʼєктами та ітераторами (можна на прикладі)."
      ],
      "metadata": {
        "id": "XwtMEopwJ4pH"
      }
    },
    {
      "cell_type": "markdown",
      "source": [
        "Ітерабельне (*iterable*) це будь що , що можливо проітерувати (пройтись циклом) , ітератор (*iterator*) це обʼєкт який створюється коли викликається `iter()`, він зберігає стан ітерації. Викликаючи `next()`, ми рухаємось по ітерації та отримуємо помилку `StopIteration:` , коли ітерація завершена."
      ],
      "metadata": {
        "id": "-sHrODc3KFn8"
      }
    },
    {
      "cell_type": "markdown",
      "source": [
        "13. (11б). Створіть клас, що має визначений Iterator Protocol та при кожному виклику next повертає літери англійської абетки, поки вони не вичерпаються."
      ],
      "metadata": {
        "id": "E9qJWmNbK8Gl"
      }
    },
    {
      "cell_type": "code",
      "source": [
        "class Alphabet():\n",
        "  def __init__(self):\n",
        "    self.cur_symbol = ord(\"a\")\n",
        "\n",
        "  def __iter__(self):\n",
        "    return self\n",
        "\n",
        "  def __next__(self):\n",
        "    if self.cur_symbol <= ord(\"z\"):\n",
        "      cur_char = chr(self.cur_symbol)\n",
        "      self.cur_symbol += 1\n",
        "      return cur_char\n",
        "    else:\n",
        "      raise StopIteration\n",
        "\n",
        "new_alphabet = Alphabet()\n",
        "\n",
        "try:\n",
        "  for x in range(30):\n",
        "    next_char = new_alphabet.__next__()\n",
        "    print(next_char)\n",
        "except Exception as e:\n",
        "  print(e.with_traceback)\n",
        "\n"
      ],
      "metadata": {
        "id": "cqx-g_RsLo6I",
        "colab": {
          "base_uri": "https://localhost:8080/"
        },
        "outputId": "8f320de6-7b6d-4107-d58c-aa4a4b0a5ad8"
      },
      "execution_count": 63,
      "outputs": [
        {
          "output_type": "stream",
          "name": "stdout",
          "text": [
            "a\n",
            "b\n",
            "c\n",
            "d\n",
            "e\n",
            "f\n",
            "g\n",
            "h\n",
            "i\n",
            "j\n",
            "k\n",
            "l\n",
            "m\n",
            "n\n",
            "o\n",
            "p\n",
            "q\n",
            "r\n",
            "s\n",
            "t\n",
            "u\n",
            "v\n",
            "w\n",
            "x\n",
            "y\n",
            "z\n",
            "<built-in method with_traceback of StopIteration object at 0x7cc66f8e2da0>\n"
          ]
        }
      ]
    },
    {
      "cell_type": "markdown",
      "source": [
        "# Вітаю! Ви велика(ий) молодець, що впоралась(вся). Похваліть себе та побалуйте чимось приємним. Я Вами пишаюся."
      ],
      "metadata": {
        "id": "Z3E3S_s1Fv7-"
      }
    }
  ]
}